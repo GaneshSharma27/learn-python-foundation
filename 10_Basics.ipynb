{
 "cells": [
  {
   "cell_type": "markdown",
   "metadata": {},
   "source": [
    "### Arrays"
   ]
  },
  {
   "cell_type": "code",
   "execution_count": null,
   "metadata": {
    "metadata": {}
   },
   "outputs": [],
   "source": [
    "cars = [\"Ford\", \"Volvo\", \"BMW\", \"Volkswagen\", \"Mercedes\", \"Hyundai\", \"Tata\", \"KIA\"]\n",
    "print(\"First array item:\", cars[0])     # get the value of first array item\n",
    "cars[0] = \"Toyota\"                      # modify the value of the first array item\n",
    "print(\"Length of an array:\", len(cars)) # use len() function to return the length of an array"
   ]
  },
  {
   "cell_type": "markdown",
   "metadata": {},
   "source": [
    "#### Looping in an array"
   ]
  },
  {
   "cell_type": "code",
   "execution_count": null,
   "metadata": {
    "metadata": {}
   },
   "outputs": [],
   "source": [
    "for x in cars:\n",
    "    print(x)"
   ]
  },
  {
   "cell_type": "markdown",
   "metadata": {},
   "source": [
    "##### append() method"
   ]
  },
  {
   "cell_type": "code",
   "execution_count": null,
   "metadata": {
    "metadata": {}
   },
   "outputs": [],
   "source": [
    "fruits = [\"apple\", \"banana\", \"mango\"]\n",
    "print(\"List before appending:\", fruits)\n",
    "fruits.append(\"orange\")             # it appends at the end of the list\n",
    "print(\"List after appending:\", fruits)"
   ]
  },
  {
   "cell_type": "code",
   "execution_count": null,
   "metadata": {
    "metadata": {}
   },
   "outputs": [],
   "source": [
    "list_1 = [\"potato\", \"tomato\", \"chili\", \"lemon\"]\n",
    "list_2 = [\"Ford\", \"BMW\", \"Toyota\", \"Tata\"]\n",
    "list_1.append(list_2)           # appends the list 2 as a list in list 1\n",
    "print(\"List after appending list 2 in list 1:\", list_1)"
   ]
  },
  {
   "cell_type": "markdown",
   "metadata": {},
   "source": [
    "#### clear() method"
   ]
  },
  {
   "cell_type": "code",
   "execution_count": null,
   "metadata": {
    "metadata": {}
   },
   "outputs": [],
   "source": [
    "fruit_example = [\"Apple\", \"Mango\", \"Pineapple\", \"Orange\", \"Pomogranate\", \"Chickoo\"]\n",
    "print(\"List before using clear() method:\", fruit_example)\n",
    "fruit_example.clear()       # removes all the elements from the list\n",
    "print(\"List after using clear() method:\", fruit_example)"
   ]
  },
  {
   "cell_type": "markdown",
   "metadata": {},
   "source": [
    "#### copy() method"
   ]
  },
  {
   "cell_type": "code",
   "execution_count": null,
   "metadata": {
    "metadata": {}
   },
   "outputs": [],
   "source": [
    "exampleList = [\"Pen\", \"Paper\", \"Ink\", \"Stamp\", \"Tape\", \"Ruler\", \"Compass\"]\n",
    "copiedList = exampleList.copy()\n",
    "print(\"Copied list:\", copiedList)"
   ]
  },
  {
   "cell_type": "markdown",
   "metadata": {},
   "source": [
    "#### count() method"
   ]
  },
  {
   "cell_type": "code",
   "execution_count": null,
   "metadata": {
    "metadata": {}
   },
   "outputs": [],
   "source": [
    "fruits = [\"apple\", \"banana\", \"cherry\", \"kiwi\", \"mango\", \"chickoos\", \"cherry\"]\n",
    "cherryCount = fruits.count(\"cherry\")\n",
    "print(\"The cherry count is\", cherryCount)"
   ]
  },
  {
   "cell_type": "markdown",
   "metadata": {},
   "source": [
    "#### extend() method"
   ]
  },
  {
   "cell_type": "code",
   "execution_count": null,
   "metadata": {
    "metadata": {}
   },
   "outputs": [],
   "source": [
    "fruits = [\"apple\", \"banana\", \"mango\", \"chickoo\", \"guava\", \"papaya\", \"watermelon\"]\n",
    "cars = [\"Ford\", \"Tata\", \"BMW\", \"Mercedes\"]\n",
    "fruits.extend(cars)         # adds the specified list elements (or any iterable) to the end of the current list\n",
    "print(\"The extended list is\", fruits)"
   ]
  },
  {
   "cell_type": "markdown",
   "metadata": {},
   "source": [
    "#### index() method"
   ]
  },
  {
   "cell_type": "code",
   "execution_count": null,
   "metadata": {
    "metadata": {}
   },
   "outputs": [],
   "source": [
    "fruits = ['apple', 'banana', 'cherry']\n",
    "x = fruits.index(\"cherry\")          # returns the index of the first element with the specified value\n",
    "print(\"The index of the 'cherry' is\", x)"
   ]
  },
  {
   "cell_type": "markdown",
   "metadata": {},
   "source": [
    "#### insert() method"
   ]
  },
  {
   "cell_type": "code",
   "execution_count": null,
   "metadata": {
    "metadata": {}
   },
   "outputs": [],
   "source": [
    "fruits = ['apple', 'banana', 'cherry']\n",
    "fruits.insert(1, \"orange\")      # inserts the specified value at the specified index (without replacing)\n",
    "print(\"The new list after insertion is\", fruits)"
   ]
  },
  {
   "cell_type": "markdown",
   "metadata": {},
   "source": [
    "#### pop() method"
   ]
  },
  {
   "cell_type": "code",
   "execution_count": null,
   "metadata": {
    "metadata": {}
   },
   "outputs": [],
   "source": [
    "fruits = ['apple', 'banana', 'cherry']\n",
    "fruits.pop(1)                   # removes the element at the specified index\n",
    "print(\"The new list after poping element at index 1 is\", fruits)"
   ]
  },
  {
   "cell_type": "markdown",
   "metadata": {},
   "source": [
    "#### remove() method"
   ]
  },
  {
   "cell_type": "code",
   "execution_count": null,
   "metadata": {
    "metadata": {}
   },
   "outputs": [],
   "source": [
    "fruits = ['apple', 'banana', 'cherry']\n",
    "fruits.remove(\"banana\")             # removes the first occurrence of the element with the specified value\n",
    "print(\"The new list after removing element 'banana' is\", fruits)"
   ]
  },
  {
   "cell_type": "markdown",
   "metadata": {},
   "source": [
    "#### reverse() method"
   ]
  },
  {
   "cell_type": "code",
   "execution_count": null,
   "metadata": {
    "metadata": {}
   },
   "outputs": [],
   "source": [
    "fruits = ['apple', 'banana', 'cherry']\n",
    "fruits.reverse()                    # reverses the sorting order of the elements\n",
    "print(\"The new list after reversing the list is\", fruits)"
   ]
  },
  {
   "cell_type": "markdown",
   "metadata": {},
   "source": [
    "#### sort() method"
   ]
  },
  {
   "cell_type": "code",
   "execution_count": null,
   "metadata": {
    "metadata": {}
   },
   "outputs": [],
   "source": [
    "cars = [\"Ford\", \"BMW\", \"Volvo\", \"Tata Motors\", \"Mercedes\", \"Audi\", \"Hyundai\", \"Toyota\"]\n",
    "cars.sort()                         # sorts the list ascending by default\n",
    "print(\"The new list after sorting the list is\", cars)"
   ]
  },
  {
   "cell_type": "code",
   "execution_count": null,
   "metadata": {
    "metadata": {}
   },
   "outputs": [],
   "source": [
    "aircraft = [\"Boeing\", \"Airbus\", \"Gulfstream\", \"Lockhead Martin\", \"Dassault Aviation\"]\n",
    "aircraft.sort(reverse=True)         # sort the list descending, by default is reverse=False\n",
    "print(\"The descending order sorted list is\", aircraft)"
   ]
  }
 ],
 "metadata": {
  "kernelspec": {
   "display_name": "Python 3",
   "language": "python",
   "name": "python3"
  },
  "language_info": {
   "codemirror_mode": {
    "name": "ipython",
    "version": 3
   },
   "file_extension": ".py",
   "mimetype": "text/x-python",
   "name": "python",
   "nbconvert_exporter": "python",
   "pygments_lexer": "ipython3",
   "version": "3.12.4"
  }
 },
 "nbformat": 4,
 "nbformat_minor": 2
}
